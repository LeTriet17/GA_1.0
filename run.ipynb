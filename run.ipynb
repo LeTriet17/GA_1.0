{
 "cells": [
  {
   "cell_type": "code",
   "execution_count": 12,
   "metadata": {
    "collapsed": true,
    "pycharm": {
     "name": "#%%\n"
    }
   },
   "outputs": [
    {
     "name": "stdout",
     "output_type": "stream",
     "text": [
      "Generation :  0\n",
      "Best result :  0.047619047619047616\n",
      "   0.019608  0.024390  0.032258  0.047619  0.090909\n",
      "0       115        96        63        25         1\n",
      "Generation :  1\n",
      "Best result :  0.09090909090909091\n",
      "   0.024390  0.032258  0.047619  0.090909\n",
      "0        23       197        74         6\n",
      "Generation :  2\n",
      "Best result :  0.09090909090909091\n",
      "   0.032258  0.047619  0.090909\n",
      "0        77       204        19\n",
      "Generation :  3\n",
      "Best result :  0.09090909090909091\n",
      "   0.047619  0.090909\n",
      "0       244        56\n",
      "Generation :  4\n",
      "Best result :  0.09090909090909091\n",
      "   0.047619  0.090909\n",
      "0       126       174\n",
      "Generation :  5\n",
      "Best result :  0.09090909090909091\n",
      "   0.090909\n",
      "0       300\n",
      "Generation :  6\n",
      "Best result :  0.09090909090909091\n",
      "   0.090909\n",
      "0       300\n",
      "Generation :  7\n",
      "Best result :  0.09090909090909091\n",
      "   0.090909\n",
      "0       300\n",
      "Generation :  8\n",
      "Best result :  0.09090909090909091\n",
      "   0.090909\n",
      "0       300\n",
      "Generation :  9\n",
      "Best result :  0.09090909090909091\n",
      "   0.090909\n",
      "0       300\n",
      "Generation :  10\n",
      "Best result :  0.09090909090909091\n",
      "   0.090909\n",
      "0       300\n",
      "Generation :  11\n",
      "Best result :  0.09090909090909091\n",
      "   0.090909\n",
      "0       300\n",
      "Generation :  12\n",
      "Best result :  0.09090909090909091\n",
      "   0.090909\n",
      "0       300\n",
      "Generation :  13\n",
      "Best result :  0.09090909090909091\n",
      "   0.090909\n",
      "0       300\n",
      "Generation :  14\n",
      "Best result :  0.09090909090909091\n",
      "   0.090909\n",
      "0       300\n",
      "Generation :  15\n",
      "Best result :  0.09090909090909091\n",
      "   0.090909\n",
      "0       300\n",
      "Generation :  16\n",
      "Best result :  0.09090909090909091\n",
      "   0.090909\n",
      "0       300\n",
      "Generation :  17\n",
      "Best result :  0.09090909090909091\n",
      "   0.090909\n",
      "0       300\n",
      "Generation :  18\n",
      "Best result :  0.09090909090909091\n",
      "   0.090909\n",
      "0       300\n",
      "Generation :  19\n",
      "Best result :  0.09090909090909091\n",
      "   0.090909\n",
      "0       300\n"
     ]
    }
   ],
   "source": [
    "import time\n",
    "\n",
    "import numpy as np\n",
    "import pandas as pd\n",
    "import ga\n",
    "\n",
    "\"\"\"\n",
    "Genetic algorithm parameters:\n",
    "    Mating pool size\n",
    "    Population size\n",
    "    Epoch\n",
    "    Mutation Rate\n",
    "\"\"\"\n",
    "start_time = time.time()\n",
    "sol_per_pop = 300\n",
    "num_parents_mating = 150\n",
    "num_generations = 20\n",
    "mutation_rate = 0.1\n",
    "# Creating the initial population.\n",
    "population = ga.createPop(sol_per_pop)\n",
    "pop_size = population.shape\n",
    "best_outputs = []\n",
    "res = pd.DataFrame()\n",
    "for generation in range(num_generations):\n",
    "    print(\"Generation : \", generation)\n",
    "    # Measuring the fitness of each chromosome in the population.'\n",
    "\n",
    "    # ================================================================\n",
    "    fitness = ga.cal_pop_fitness(population)\n",
    "\n",
    "    best_outputs.append(np.max(fitness))\n",
    "    # The best result in the current iteration.\n",
    "    print(\"Best result : \", np.max(fitness))\n",
    "\n",
    "    # Selecting the best parents in the population for mating.\n",
    "    parents = ga.select_mating_pool(population,\n",
    "                                    num_parents_mating)\n",
    "    # Generating next generation using crossover.\n",
    "    # ==============================HP=============================\n",
    "\n",
    "    offspring_crossover = ga.crossover(parents)\n",
    "\n",
    "    # Adding some variations to the offspring using mutation.\n",
    "    # ==============================HP=============================\n",
    "\n",
    "    # offspring_mutation = ga.mutation(offspring_crossover, mutation_rate)\n",
    "    offspring_mutation = ga.mutation(population, mutation_rate)\n",
    "    # Creating the new population based on the parents and offspring.\n",
    "    pop_and_child = np.concatenate((offspring_mutation, offspring_crossover, parents, population))\n",
    "    pop_and_child_fitness = ga.cal_pop_fitness(pop_and_child)\n",
    "    # print('pop_and_child_fitness',pop_and_child_fitness)\n",
    "    # get n-largest element from pop_and_child\n",
    "    n_largest_index = pop_and_child_fitness.argsort()[-pop_size[0]:]\n",
    "    population = pop_and_child[n_largest_index]\n",
    "    (unique, counts) = np.unique(pop_and_child_fitness[n_largest_index], return_counts=True)\n",
    "    value_fre_df = pd.DataFrame({unique[i]: [counts[i]] for i in range(len(unique))})\n",
    "    print(value_fre_df)\n",
    "    res = pd.concat([res, value_fre_df], ignore_index=True, axis=0)"
   ]
  },
  {
   "cell_type": "markdown",
   "source": [
    "Show Result"
   ],
   "metadata": {
    "collapsed": false,
    "pycharm": {
     "name": "#%% md\n"
    }
   }
  },
  {
   "cell_type": "code",
   "execution_count": 13,
   "outputs": [
    {
     "name": "stdout",
     "output_type": "stream",
     "text": [
      "['H13830325']\n",
      "[]\n",
      "Best solution fitness :  0.09090909090909091\n",
      "--- 1550.3738279342651 seconds ---\n"
     ]
    }
   ],
   "source": [
    "# Getting the best solution after iterating finishing all generations.\n",
    "# At first, the fitness is calculated for each solution in the final generation.\n",
    "fitness = ga.cal_pop_fitness(population)\n",
    "# Then return the index of that solution corresponding to the best fitness.\n",
    "best_match_idx = np.argmax(fitness == np.max(fitness))\n",
    "best_result = population[best_match_idx]\n",
    "ga.manday_chromosome(best_result, True)\n",
    "print(best_result.HC_time)\n",
    "print(best_result.HC_resource)\n",
    "for chromosome_index in range(best_result.chromosome.shape[0]):\n",
    "    chromosome = best_result.chromosome[chromosome_index]\n",
    "    chromosome = str(chromosome).split('-')\n",
    "    shift = chromosome[-1][1]\n",
    "    chromosome[-1] = ga.decode_datetime(chromosome[-1][1:])\n",
    "    chromosome.append(shift)\n",
    "    best_result.chromosome[chromosome_index] = '-'.join(chromosome)\n",
    "# print(\"Best solution : \", best_result)\n",
    "print(\"Best solution fitness : \", fitness[best_match_idx])\n",
    "print(\"--- %s seconds ---\" % (time.time() - start_time))"
   ],
   "metadata": {
    "collapsed": false,
    "pycharm": {
     "name": "#%%\n"
    }
   }
  },
  {
   "cell_type": "code",
   "execution_count": 14,
   "outputs": [],
   "source": [
    "res = res.fillna(0)"
   ],
   "metadata": {
    "collapsed": false,
    "pycharm": {
     "name": "#%%\n"
    }
   }
  },
  {
   "cell_type": "code",
   "execution_count": 16,
   "outputs": [
    {
     "data": {
      "text/plain": "<Figure size 432x288 with 1 Axes>",
      "image/png": "[encoded data removed]"
     },
     "metadata": {
      "needs_background": "light"
     },
     "output_type": "display_data"
    }
   ],
   "source": [
    "import matplotlib.pyplot as plt\n",
    "x = range(num_generations)\n",
    "for i in range(len(res.columns)):\n",
    "    y = res.iloc[:,i ]\n",
    "    plt.plot(x, y, label=res.columns[i])\n",
    "plt.legend(loc=\"upper left\")\n",
    "plt.savefig('all1.png')\n",
    "\n",
    "plt.show()"
   ],
   "metadata": {
    "collapsed": false,
    "pycharm": {
     "name": "#%%\n"
    }
   }
  },
  {
   "cell_type": "code",
   "execution_count": null,
   "outputs": [],
   "source": [],
   "metadata": {
    "collapsed": false,
    "pycharm": {
     "name": "#%%\n"
    }
   }
  }
 ],
 "metadata": {
  "kernelspec": {
   "display_name": "Python 3",
   "language": "python",
   "name": "python3"
  },
  "language_info": {
   "codemirror_mode": {
    "name": "ipython",
    "version": 2
   },
   "file_extension": ".py",
   "mimetype": "text/x-python",
   "name": "python",
   "nbconvert_exporter": "python",
   "pygments_lexer": "ipython2",
   "version": "2.7.6"
  }
 },
 "nbformat": 4,
 "nbformat_minor": 0
}